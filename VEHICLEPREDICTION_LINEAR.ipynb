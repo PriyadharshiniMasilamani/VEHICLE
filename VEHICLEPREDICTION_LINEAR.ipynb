{
 "cells": [
  {
   "cell_type": "markdown",
   "id": "1305dbc9",
   "metadata": {},
   "source": [
    "# VEHICLE PREDICTION"
   ]
  },
  {
   "cell_type": "code",
   "execution_count": 1,
   "id": "ed3050a4",
   "metadata": {},
   "outputs": [],
   "source": [
    "import numpy as np\n",
    "import pandas as pd\n",
    "import datetime\n",
    "import matplotlib.pyplot as plt\n",
    "import seaborn as sns\n",
    "import statsmodels.api as sm\n",
    "from sklearn.model_selection import train_test_split\n",
    "from sklearn.preprocessing import MinMaxScaler"
   ]
  },
  {
   "cell_type": "code",
   "execution_count": 2,
   "id": "0e32452c",
   "metadata": {},
   "outputs": [],
   "source": [
    "vehicle=pd.read_csv(\"C:/Users/PRADEEP PRIYA/Downloads/data.csv\",na_values=\"?\")"
   ]
  },
  {
   "cell_type": "code",
   "execution_count": 3,
   "id": "64aba83e",
   "metadata": {},
   "outputs": [
    {
     "data": {
      "text/html": [
       "<div>\n",
       "<style scoped>\n",
       "    .dataframe tbody tr th:only-of-type {\n",
       "        vertical-align: middle;\n",
       "    }\n",
       "\n",
       "    .dataframe tbody tr th {\n",
       "        vertical-align: top;\n",
       "    }\n",
       "\n",
       "    .dataframe thead th {\n",
       "        text-align: right;\n",
       "    }\n",
       "</style>\n",
       "<table border=\"1\" class=\"dataframe\">\n",
       "  <thead>\n",
       "    <tr style=\"text-align: right;\">\n",
       "      <th></th>\n",
       "      <th>origin</th>\n",
       "      <th>cylinders</th>\n",
       "      <th>displacement</th>\n",
       "      <th>horsepower</th>\n",
       "      <th>weight</th>\n",
       "      <th>acceleration</th>\n",
       "      <th>year</th>\n",
       "      <th>name</th>\n",
       "      <th>Kilometer_per_liter</th>\n",
       "    </tr>\n",
       "  </thead>\n",
       "  <tbody>\n",
       "    <tr>\n",
       "      <th>0</th>\n",
       "      <td>1</td>\n",
       "      <td>8</td>\n",
       "      <td>307.0</td>\n",
       "      <td>130.0</td>\n",
       "      <td>3504</td>\n",
       "      <td>12.0</td>\n",
       "      <td>1970</td>\n",
       "      <td>chevrolet chevelle malibu</td>\n",
       "      <td>7.652587</td>\n",
       "    </tr>\n",
       "    <tr>\n",
       "      <th>1</th>\n",
       "      <td>1</td>\n",
       "      <td>8</td>\n",
       "      <td>350.0</td>\n",
       "      <td>165.0</td>\n",
       "      <td>3693</td>\n",
       "      <td>11.5</td>\n",
       "      <td>1970</td>\n",
       "      <td>buick skylark 320</td>\n",
       "      <td>6.377156</td>\n",
       "    </tr>\n",
       "    <tr>\n",
       "      <th>2</th>\n",
       "      <td>1</td>\n",
       "      <td>8</td>\n",
       "      <td>318.0</td>\n",
       "      <td>150.0</td>\n",
       "      <td>3436</td>\n",
       "      <td>11.0</td>\n",
       "      <td>1970</td>\n",
       "      <td>plymouth satellite</td>\n",
       "      <td>7.652587</td>\n",
       "    </tr>\n",
       "    <tr>\n",
       "      <th>3</th>\n",
       "      <td>1</td>\n",
       "      <td>8</td>\n",
       "      <td>304.0</td>\n",
       "      <td>150.0</td>\n",
       "      <td>3433</td>\n",
       "      <td>12.0</td>\n",
       "      <td>1970</td>\n",
       "      <td>amc rebel sst</td>\n",
       "      <td>6.802299</td>\n",
       "    </tr>\n",
       "    <tr>\n",
       "      <th>4</th>\n",
       "      <td>1</td>\n",
       "      <td>8</td>\n",
       "      <td>302.0</td>\n",
       "      <td>140.0</td>\n",
       "      <td>3449</td>\n",
       "      <td>10.5</td>\n",
       "      <td>1970</td>\n",
       "      <td>ford torino</td>\n",
       "      <td>7.227443</td>\n",
       "    </tr>\n",
       "  </tbody>\n",
       "</table>\n",
       "</div>"
      ],
      "text/plain": [
       "   origin  cylinders  displacement  horsepower  weight  acceleration  year  \\\n",
       "0       1          8         307.0       130.0    3504          12.0  1970   \n",
       "1       1          8         350.0       165.0    3693          11.5  1970   \n",
       "2       1          8         318.0       150.0    3436          11.0  1970   \n",
       "3       1          8         304.0       150.0    3433          12.0  1970   \n",
       "4       1          8         302.0       140.0    3449          10.5  1970   \n",
       "\n",
       "                        name  Kilometer_per_liter  \n",
       "0  chevrolet chevelle malibu             7.652587  \n",
       "1          buick skylark 320             6.377156  \n",
       "2         plymouth satellite             7.652587  \n",
       "3              amc rebel sst             6.802299  \n",
       "4                ford torino             7.227443  "
      ]
     },
     "execution_count": 3,
     "metadata": {},
     "output_type": "execute_result"
    }
   ],
   "source": [
    "vehicle.head(5)"
   ]
  },
  {
   "cell_type": "code",
   "execution_count": 4,
   "id": "37d41238",
   "metadata": {},
   "outputs": [
    {
     "data": {
      "text/plain": [
       "Index(['origin', 'cylinders', 'displacement', 'horsepower', 'weight',\n",
       "       'acceleration', 'year', 'name', 'Kilometer_per_liter'],\n",
       "      dtype='object')"
      ]
     },
     "execution_count": 4,
     "metadata": {},
     "output_type": "execute_result"
    }
   ],
   "source": [
    "vehicle.columns"
   ]
  },
  {
   "cell_type": "markdown",
   "id": "99b4dd1c",
   "metadata": {},
   "source": [
    "# EDA"
   ]
  },
  {
   "cell_type": "code",
   "execution_count": 5,
   "id": "113b07ea",
   "metadata": {},
   "outputs": [
    {
     "data": {
      "text/plain": [
       "origin                 0\n",
       "cylinders              0\n",
       "displacement           0\n",
       "horsepower             6\n",
       "weight                 0\n",
       "acceleration           0\n",
       "year                   0\n",
       "name                   0\n",
       "Kilometer_per_liter    0\n",
       "dtype: int64"
      ]
     },
     "execution_count": 5,
     "metadata": {},
     "output_type": "execute_result"
    }
   ],
   "source": [
    "vehicle.isnull().sum()"
   ]
  },
  {
   "cell_type": "code",
   "execution_count": 6,
   "id": "f4e5f08b",
   "metadata": {},
   "outputs": [
    {
     "data": {
      "text/plain": [
       "array([1, 3, 2], dtype=int64)"
      ]
     },
     "execution_count": 6,
     "metadata": {},
     "output_type": "execute_result"
    }
   ],
   "source": [
    "vehicle.origin.unique()"
   ]
  },
  {
   "cell_type": "code",
   "execution_count": 7,
   "id": "48300a39",
   "metadata": {},
   "outputs": [
    {
     "name": "stderr",
     "output_type": "stream",
     "text": [
      "C:\\ProgramData\\Anaconda3\\lib\\site-packages\\seaborn\\_decorators.py:36: FutureWarning: Pass the following variable as a keyword arg: x. From version 0.12, the only valid positional argument will be `data`, and passing other arguments without an explicit keyword will result in an error or misinterpretation.\n",
      "  warnings.warn(\n"
     ]
    },
    {
     "data": {
      "text/plain": [
       "<AxesSubplot:xlabel='origin', ylabel='count'>"
      ]
     },
     "execution_count": 7,
     "metadata": {},
     "output_type": "execute_result"
    },
    {
     "data": {
      "image/png": "[encoded data removed]",
      "text/plain": [
       "<Figure size 432x288 with 1 Axes>"
      ]
     },
     "metadata": {
      "needs_background": "light"
     },
     "output_type": "display_data"
    }
   ],
   "source": [
    "sns.countplot(vehicle.origin)"
   ]
  },
  {
   "cell_type": "code",
   "execution_count": 8,
   "id": "bb547620",
   "metadata": {},
   "outputs": [
    {
     "data": {
      "text/plain": [
       "5"
      ]
     },
     "execution_count": 8,
     "metadata": {},
     "output_type": "execute_result"
    }
   ],
   "source": [
    "vehicle.cylinders.nunique()"
   ]
  },
  {
   "cell_type": "code",
   "execution_count": 9,
   "id": "d337a4bb",
   "metadata": {},
   "outputs": [
    {
     "name": "stderr",
     "output_type": "stream",
     "text": [
      "C:\\ProgramData\\Anaconda3\\lib\\site-packages\\seaborn\\_decorators.py:36: FutureWarning: Pass the following variable as a keyword arg: x. From version 0.12, the only valid positional argument will be `data`, and passing other arguments without an explicit keyword will result in an error or misinterpretation.\n",
      "  warnings.warn(\n"
     ]
    },
    {
     "data": {
      "text/plain": [
       "<AxesSubplot:xlabel='cylinders', ylabel='count'>"
      ]
     },
     "execution_count": 9,
     "metadata": {},
     "output_type": "execute_result"
    },
    {
     "data": {
      "image/png": "[encoded data removed]",
      "text/plain": [
       "<Figure size 432x288 with 1 Axes>"
      ]
     },
     "metadata": {
      "needs_background": "light"
     },
     "output_type": "display_data"
    }
   ],
   "source": [
    "sns.countplot(vehicle.cylinders)"
   ]
  },
  {
   "cell_type": "code",
   "execution_count": 10,
   "id": "87ad86ae",
   "metadata": {},
   "outputs": [
    {
     "data": {
      "text/plain": [
       "count    398.000000\n",
       "mean     193.425879\n",
       "std      104.269838\n",
       "min       68.000000\n",
       "25%      104.250000\n",
       "50%      148.500000\n",
       "75%      262.000000\n",
       "max      455.000000\n",
       "Name: displacement, dtype: float64"
      ]
     },
     "execution_count": 10,
     "metadata": {},
     "output_type": "execute_result"
    }
   ],
   "source": [
    "vehicle.displacement.describe()"
   ]
  },
  {
   "cell_type": "code",
   "execution_count": 11,
   "id": "88f62063",
   "metadata": {},
   "outputs": [
    {
     "data": {
      "text/plain": [
       "{'whiskers': [<matplotlib.lines.Line2D at 0x1b5be8cba30>,\n",
       "  <matplotlib.lines.Line2D at 0x1b5be8cbd00>],\n",
       " 'caps': [<matplotlib.lines.Line2D at 0x1b5be8dd0d0>,\n",
       "  <matplotlib.lines.Line2D at 0x1b5be8dd460>],\n",
       " 'boxes': [<matplotlib.lines.Line2D at 0x1b5be8cb5e0>],\n",
       " 'medians': [<matplotlib.lines.Line2D at 0x1b5be8dd7f0>],\n",
       " 'fliers': [<matplotlib.lines.Line2D at 0x1b5be8ddb80>],\n",
       " 'means': []}"
      ]
     },
     "execution_count": 11,
     "metadata": {},
     "output_type": "execute_result"
    },
    {
     "data": {
      "image/png": "[encoded data removed]",
      "text/plain": [
       "<Figure size 432x288 with 1 Axes>"
      ]
     },
     "metadata": {
      "needs_background": "light"
     },
     "output_type": "display_data"
    }
   ],
   "source": [
    "plt.boxplot(vehicle.displacement)"
   ]
  },
  {
   "cell_type": "code",
   "execution_count": 12,
   "id": "e30fbae5",
   "metadata": {},
   "outputs": [
    {
     "data": {
      "text/plain": [
       "count    392.000000\n",
       "mean     104.469388\n",
       "std       38.491160\n",
       "min       46.000000\n",
       "25%       75.000000\n",
       "50%       93.500000\n",
       "75%      126.000000\n",
       "max      230.000000\n",
       "Name: horsepower, dtype: float64"
      ]
     },
     "execution_count": 12,
     "metadata": {},
     "output_type": "execute_result"
    }
   ],
   "source": [
    "vehicle.horsepower.describe()"
   ]
  },
  {
   "cell_type": "code",
   "execution_count": 13,
   "id": "60b32fac",
   "metadata": {},
   "outputs": [],
   "source": [
    "vehicle.horsepower.fillna(vehicle.horsepower.mean(),inplace=True)"
   ]
  },
  {
   "cell_type": "code",
   "execution_count": 14,
   "id": "0872ca82",
   "metadata": {},
   "outputs": [
    {
     "data": {
      "text/plain": [
       "0"
      ]
     },
     "execution_count": 14,
     "metadata": {},
     "output_type": "execute_result"
    }
   ],
   "source": [
    "vehicle.horsepower.isnull().sum()"
   ]
  },
  {
   "cell_type": "code",
   "execution_count": 15,
   "id": "6fd888d8",
   "metadata": {},
   "outputs": [
    {
     "data": {
      "text/plain": [
       "{'whiskers': [<matplotlib.lines.Line2D at 0x1b5be951250>,\n",
       "  <matplotlib.lines.Line2D at 0x1b5be9515e0>],\n",
       " 'caps': [<matplotlib.lines.Line2D at 0x1b5be951970>,\n",
       "  <matplotlib.lines.Line2D at 0x1b5be951d00>],\n",
       " 'boxes': [<matplotlib.lines.Line2D at 0x1b5be942e80>],\n",
       " 'medians': [<matplotlib.lines.Line2D at 0x1b5be95d0d0>],\n",
       " 'fliers': [<matplotlib.lines.Line2D at 0x1b5be95d460>],\n",
       " 'means': []}"
      ]
     },
     "execution_count": 15,
     "metadata": {},
     "output_type": "execute_result"
    },
    {
     "data": {
      "image/png": "[encoded data removed]",
      "text/plain": [
       "<Figure size 432x288 with 1 Axes>"
      ]
     },
     "metadata": {
      "needs_background": "light"
     },
     "output_type": "display_data"
    }
   ],
   "source": [
    "plt.boxplot(vehicle.horsepower)"
   ]
  },
  {
   "cell_type": "code",
   "execution_count": 16,
   "id": "f753550f",
   "metadata": {},
   "outputs": [
    {
     "name": "stderr",
     "output_type": "stream",
     "text": [
      "C:\\Users\\PRADEE~1\\AppData\\Local\\Temp/ipykernel_17324/2372742163.py:7: SettingWithCopyWarning: \n",
      "A value is trying to be set on a copy of a slice from a DataFrame\n",
      "\n",
      "See the caveats in the documentation: https://pandas.pydata.org/pandas-docs/stable/user_guide/indexing.html#returning-a-view-versus-a-copy\n",
      "  vehicle.horsepower[vehicle.horsepower>UE]=UE\n",
      "C:\\Users\\PRADEE~1\\AppData\\Local\\Temp/ipykernel_17324/2372742163.py:8: SettingWithCopyWarning: \n",
      "A value is trying to be set on a copy of a slice from a DataFrame\n",
      "\n",
      "See the caveats in the documentation: https://pandas.pydata.org/pandas-docs/stable/user_guide/indexing.html#returning-a-view-versus-a-copy\n",
      "  vehicle.horsepower[vehicle.horsepower<LE]=LE\n"
     ]
    },
    {
     "data": {
      "text/plain": [
       "{'whiskers': [<matplotlib.lines.Line2D at 0x1b5be9caa00>,\n",
       "  <matplotlib.lines.Line2D at 0x1b5be9cad90>],\n",
       " 'caps': [<matplotlib.lines.Line2D at 0x1b5be9d4040>,\n",
       "  <matplotlib.lines.Line2D at 0x1b5be9d43d0>],\n",
       " 'boxes': [<matplotlib.lines.Line2D at 0x1b5be9ca670>],\n",
       " 'medians': [<matplotlib.lines.Line2D at 0x1b5be9d4760>],\n",
       " 'fliers': [<matplotlib.lines.Line2D at 0x1b5be9d4af0>],\n",
       " 'means': []}"
      ]
     },
     "execution_count": 16,
     "metadata": {},
     "output_type": "execute_result"
    },
    {
     "data": {
      "image/png": "[encoded data removed]",
      "text/plain": [
       "<Figure size 432x288 with 1 Axes>"
      ]
     },
     "metadata": {
      "needs_background": "light"
     },
     "output_type": "display_data"
    }
   ],
   "source": [
    "q3=vehicle.horsepower.quantile(0.75)\n",
    "q1=vehicle.horsepower.quantile(0.25)\n",
    "iqr=q3-q1\n",
    "UE=q3+1.5*(iqr)\n",
    "LE=q1-1.5*(iqr)\n",
    "vehicle[(vehicle.horsepower<UE)&(vehicle.horsepower>LE)]\n",
    "vehicle.horsepower[vehicle.horsepower>UE]=UE\n",
    "vehicle.horsepower[vehicle.horsepower<LE]=LE\n",
    "plt.boxplot(vehicle.horsepower)"
   ]
  },
  {
   "cell_type": "code",
   "execution_count": 17,
   "id": "8f734d06",
   "metadata": {},
   "outputs": [
    {
     "data": {
      "text/plain": [
       "count     398.000000\n",
       "mean     2970.424623\n",
       "std       846.841774\n",
       "min      1613.000000\n",
       "25%      2223.750000\n",
       "50%      2803.500000\n",
       "75%      3608.000000\n",
       "max      5140.000000\n",
       "Name: weight, dtype: float64"
      ]
     },
     "execution_count": 17,
     "metadata": {},
     "output_type": "execute_result"
    }
   ],
   "source": [
    "vehicle.weight.describe()"
   ]
  },
  {
   "cell_type": "code",
   "execution_count": 18,
   "id": "97d573da",
   "metadata": {},
   "outputs": [
    {
     "data": {
      "text/plain": [
       "{'whiskers': [<matplotlib.lines.Line2D at 0x1b5bea2ee80>,\n",
       "  <matplotlib.lines.Line2D at 0x1b5bea38250>],\n",
       " 'caps': [<matplotlib.lines.Line2D at 0x1b5bea385e0>,\n",
       "  <matplotlib.lines.Line2D at 0x1b5bea38970>],\n",
       " 'boxes': [<matplotlib.lines.Line2D at 0x1b5bea2eaf0>],\n",
       " 'medians': [<matplotlib.lines.Line2D at 0x1b5bea38d00>],\n",
       " 'fliers': [<matplotlib.lines.Line2D at 0x1b5bfa180d0>],\n",
       " 'means': []}"
      ]
     },
     "execution_count": 18,
     "metadata": {},
     "output_type": "execute_result"
    },
    {
     "data": {
      "image/png": "[encoded data removed]",
      "text/plain": [
       "<Figure size 432x288 with 1 Axes>"
      ]
     },
     "metadata": {
      "needs_background": "light"
     },
     "output_type": "display_data"
    }
   ],
   "source": [
    "plt.boxplot(vehicle.weight)"
   ]
  },
  {
   "cell_type": "code",
   "execution_count": 19,
   "id": "956fb588",
   "metadata": {},
   "outputs": [
    {
     "data": {
      "text/plain": [
       "count    398.000000\n",
       "mean      15.568090\n",
       "std        2.757689\n",
       "min        8.000000\n",
       "25%       13.825000\n",
       "50%       15.500000\n",
       "75%       17.175000\n",
       "max       24.800000\n",
       "Name: acceleration, dtype: float64"
      ]
     },
     "execution_count": 19,
     "metadata": {},
     "output_type": "execute_result"
    }
   ],
   "source": [
    "vehicle.acceleration.describe()"
   ]
  },
  {
   "cell_type": "code",
   "execution_count": 20,
   "id": "1599a0e4",
   "metadata": {},
   "outputs": [
    {
     "data": {
      "text/plain": [
       "{'whiskers': [<matplotlib.lines.Line2D at 0x1b5bfa6fc40>,\n",
       "  <matplotlib.lines.Line2D at 0x1b5bfa6ffd0>],\n",
       " 'caps': [<matplotlib.lines.Line2D at 0x1b5bfa7c3a0>,\n",
       "  <matplotlib.lines.Line2D at 0x1b5bfa7c730>],\n",
       " 'boxes': [<matplotlib.lines.Line2D at 0x1b5bfa6f8b0>],\n",
       " 'medians': [<matplotlib.lines.Line2D at 0x1b5bfa7cac0>],\n",
       " 'fliers': [<matplotlib.lines.Line2D at 0x1b5bfa7ce50>],\n",
       " 'means': []}"
      ]
     },
     "execution_count": 20,
     "metadata": {},
     "output_type": "execute_result"
    },
    {
     "data": {
      "image/png": "[encoded data removed]",
      "text/plain": [
       "<Figure size 432x288 with 1 Axes>"
      ]
     },
     "metadata": {
      "needs_background": "light"
     },
     "output_type": "display_data"
    }
   ],
   "source": [
    "plt.boxplot(vehicle.acceleration)"
   ]
  },
  {
   "cell_type": "code",
   "execution_count": 21,
   "id": "100f253e",
   "metadata": {},
   "outputs": [
    {
     "name": "stderr",
     "output_type": "stream",
     "text": [
      "C:\\Users\\PRADEE~1\\AppData\\Local\\Temp/ipykernel_17324/875710041.py:7: SettingWithCopyWarning: \n",
      "A value is trying to be set on a copy of a slice from a DataFrame\n",
      "\n",
      "See the caveats in the documentation: https://pandas.pydata.org/pandas-docs/stable/user_guide/indexing.html#returning-a-view-versus-a-copy\n",
      "  vehicle.acceleration[vehicle.acceleration>UE]=UE\n",
      "C:\\Users\\PRADEE~1\\AppData\\Local\\Temp/ipykernel_17324/875710041.py:8: SettingWithCopyWarning: \n",
      "A value is trying to be set on a copy of a slice from a DataFrame\n",
      "\n",
      "See the caveats in the documentation: https://pandas.pydata.org/pandas-docs/stable/user_guide/indexing.html#returning-a-view-versus-a-copy\n",
      "  vehicle.acceleration[vehicle.acceleration<LE]=LE\n"
     ]
    },
    {
     "data": {
      "text/plain": [
       "{'whiskers': [<matplotlib.lines.Line2D at 0x1b5bfaea280>,\n",
       "  <matplotlib.lines.Line2D at 0x1b5bfaea610>],\n",
       " 'caps': [<matplotlib.lines.Line2D at 0x1b5bfaea9a0>,\n",
       "  <matplotlib.lines.Line2D at 0x1b5bfaead30>],\n",
       " 'boxes': [<matplotlib.lines.Line2D at 0x1b5bfaddeb0>],\n",
       " 'medians': [<matplotlib.lines.Line2D at 0x1b5bfaf7100>],\n",
       " 'fliers': [<matplotlib.lines.Line2D at 0x1b5bfaf7490>],\n",
       " 'means': []}"
      ]
     },
     "execution_count": 21,
     "metadata": {},
     "output_type": "execute_result"
    },
    {
     "data": {
      "image/png": "[encoded data removed]",
      "text/plain": [
       "<Figure size 432x288 with 1 Axes>"
      ]
     },
     "metadata": {
      "needs_background": "light"
     },
     "output_type": "display_data"
    }
   ],
   "source": [
    "q3=vehicle.acceleration.quantile(0.75)\n",
    "q1=vehicle.acceleration.quantile(0.25)\n",
    "iqr=q3-q1\n",
    "UE=q3+1.5*(iqr)\n",
    "LE=q1-1.5*(iqr)\n",
    "vehicle[(vehicle.acceleration<UE)&(vehicle.acceleration>LE)]\n",
    "vehicle.acceleration[vehicle.acceleration>UE]=UE\n",
    "vehicle.acceleration[vehicle.acceleration<LE]=LE\n",
    "plt.boxplot(vehicle.acceleration)"
   ]
  },
  {
   "cell_type": "code",
   "execution_count": 22,
   "id": "70cc7a9b",
   "metadata": {},
   "outputs": [
    {
     "data": {
      "text/plain": [
       "13"
      ]
     },
     "execution_count": 22,
     "metadata": {},
     "output_type": "execute_result"
    }
   ],
   "source": [
    "vehicle.year.nunique()"
   ]
  },
  {
   "cell_type": "code",
   "execution_count": 23,
   "id": "3f331d14",
   "metadata": {},
   "outputs": [
    {
     "name": "stderr",
     "output_type": "stream",
     "text": [
      "C:\\ProgramData\\Anaconda3\\lib\\site-packages\\seaborn\\_decorators.py:36: FutureWarning: Pass the following variable as a keyword arg: x. From version 0.12, the only valid positional argument will be `data`, and passing other arguments without an explicit keyword will result in an error or misinterpretation.\n",
      "  warnings.warn(\n"
     ]
    },
    {
     "data": {
      "text/plain": [
       "<AxesSubplot:xlabel='year', ylabel='count'>"
      ]
     },
     "execution_count": 23,
     "metadata": {},
     "output_type": "execute_result"
    },
    {
     "data": {
      "image/png": "[encoded data removed]",
      "text/plain": [
       "<Figure size 432x288 with 1 Axes>"
      ]
     },
     "metadata": {
      "needs_background": "light"
     },
     "output_type": "display_data"
    }
   ],
   "source": [
    "sns.countplot(vehicle.year)"
   ]
  },
  {
   "cell_type": "code",
   "execution_count": 24,
   "id": "4e8332b9",
   "metadata": {},
   "outputs": [],
   "source": [
    "vehicle.year.replace([\"1971\",\"1972\"],\"1971-1972\",inplace=True)\n",
    "vehicle.year.replace([\"1979\",\"1980\",\"1981\"],\"1979-1981\",inplace=True)"
   ]
  },
  {
   "cell_type": "code",
   "execution_count": 25,
   "id": "3743d4d6",
   "metadata": {},
   "outputs": [
    {
     "name": "stderr",
     "output_type": "stream",
     "text": [
      "C:\\ProgramData\\Anaconda3\\lib\\site-packages\\seaborn\\_decorators.py:36: FutureWarning: Pass the following variable as a keyword arg: x. From version 0.12, the only valid positional argument will be `data`, and passing other arguments without an explicit keyword will result in an error or misinterpretation.\n",
      "  warnings.warn(\n"
     ]
    },
    {
     "data": {
      "text/plain": [
       "<AxesSubplot:xlabel='year', ylabel='count'>"
      ]
     },
     "execution_count": 25,
     "metadata": {},
     "output_type": "execute_result"
    },
    {
     "data": {
      "image/png": "[encoded data removed]",
      "text/plain": [
       "<Figure size 432x288 with 1 Axes>"
      ]
     },
     "metadata": {
      "needs_background": "light"
     },
     "output_type": "display_data"
    }
   ],
   "source": [
    "sns.countplot(vehicle.year)"
   ]
  },
  {
   "cell_type": "code",
   "execution_count": 26,
   "id": "a0b15d7f",
   "metadata": {},
   "outputs": [
    {
     "data": {
      "text/plain": [
       "count            398\n",
       "unique           305\n",
       "top       ford pinto\n",
       "freq               6\n",
       "Name: name, dtype: object"
      ]
     },
     "execution_count": 26,
     "metadata": {},
     "output_type": "execute_result"
    }
   ],
   "source": [
    "vehicle.name.describe()"
   ]
  },
  {
   "cell_type": "code",
   "execution_count": 27,
   "id": "b87ae10b",
   "metadata": {},
   "outputs": [
    {
     "data": {
      "text/plain": [
       "0"
      ]
     },
     "execution_count": 27,
     "metadata": {},
     "output_type": "execute_result"
    }
   ],
   "source": [
    "vehicle.name.isnull().sum()"
   ]
  },
  {
   "cell_type": "code",
   "execution_count": 28,
   "id": "e673fb4f",
   "metadata": {},
   "outputs": [
    {
     "data": {
      "text/plain": [
       "count    398.000000\n",
       "mean       9.997073\n",
       "std        3.322917\n",
       "min        3.826293\n",
       "25%        7.440015\n",
       "50%        9.778305\n",
       "75%       12.329168\n",
       "max       19.811697\n",
       "Name: Kilometer_per_liter, dtype: float64"
      ]
     },
     "execution_count": 28,
     "metadata": {},
     "output_type": "execute_result"
    }
   ],
   "source": [
    "vehicle.Kilometer_per_liter.describe()"
   ]
  },
  {
   "cell_type": "code",
   "execution_count": 29,
   "id": "85e7630c",
   "metadata": {},
   "outputs": [
    {
     "data": {
      "text/plain": [
       "{'whiskers': [<matplotlib.lines.Line2D at 0x1b5bfc7bf70>,\n",
       "  <matplotlib.lines.Line2D at 0x1b5bfc89340>],\n",
       " 'caps': [<matplotlib.lines.Line2D at 0x1b5bfc896d0>,\n",
       "  <matplotlib.lines.Line2D at 0x1b5bfc89a60>],\n",
       " 'boxes': [<matplotlib.lines.Line2D at 0x1b5bfc7bbe0>],\n",
       " 'medians': [<matplotlib.lines.Line2D at 0x1b5bfc89df0>],\n",
       " 'fliers': [<matplotlib.lines.Line2D at 0x1b5bfc951c0>],\n",
       " 'means': []}"
      ]
     },
     "execution_count": 29,
     "metadata": {},
     "output_type": "execute_result"
    },
    {
     "data": {
      "image/png": "[encoded data removed]",
      "text/plain": [
       "<Figure size 432x288 with 1 Axes>"
      ]
     },
     "metadata": {
      "needs_background": "light"
     },
     "output_type": "display_data"
    }
   ],
   "source": [
    "plt.boxplot(vehicle.Kilometer_per_liter)"
   ]
  },
  {
   "cell_type": "code",
   "execution_count": 30,
   "id": "d96f9010",
   "metadata": {},
   "outputs": [
    {
     "name": "stdout",
     "output_type": "stream",
     "text": [
      "<class 'pandas.core.frame.DataFrame'>\n",
      "RangeIndex: 398 entries, 0 to 397\n",
      "Data columns (total 9 columns):\n",
      " #   Column               Non-Null Count  Dtype  \n",
      "---  ------               --------------  -----  \n",
      " 0   origin               398 non-null    int64  \n",
      " 1   cylinders            398 non-null    int64  \n",
      " 2   displacement         398 non-null    float64\n",
      " 3   horsepower           398 non-null    float64\n",
      " 4   weight               398 non-null    int64  \n",
      " 5   acceleration         398 non-null    float64\n",
      " 6   year                 398 non-null    int64  \n",
      " 7   name                 398 non-null    object \n",
      " 8   Kilometer_per_liter  398 non-null    float64\n",
      "dtypes: float64(4), int64(4), object(1)\n",
      "memory usage: 28.1+ KB\n"
     ]
    }
   ],
   "source": [
    "vehicle.info()"
   ]
  },
  {
   "cell_type": "code",
   "execution_count": 31,
   "id": "851493fb",
   "metadata": {},
   "outputs": [],
   "source": [
    "vehicle.origin = vehicle.origin.astype(str)"
   ]
  },
  {
   "cell_type": "code",
   "execution_count": 32,
   "id": "9d2ecb89",
   "metadata": {},
   "outputs": [],
   "source": [
    "vehicle.cylinders = vehicle.cylinders.astype(str)"
   ]
  },
  {
   "cell_type": "code",
   "execution_count": 33,
   "id": "5aa9b6e7",
   "metadata": {},
   "outputs": [],
   "source": [
    "vehicle.year = vehicle.year.astype(str)"
   ]
  },
  {
   "cell_type": "code",
   "execution_count": 34,
   "id": "d60ce8a5",
   "metadata": {},
   "outputs": [],
   "source": [
    "vehicle.drop([\"name\"],axis=1,inplace=True)"
   ]
  },
  {
   "cell_type": "markdown",
   "id": "ef8d5619",
   "metadata": {},
   "source": [
    "# CREATING DUMMIES"
   ]
  },
  {
   "cell_type": "code",
   "execution_count": 35,
   "id": "76eb91a1",
   "metadata": {},
   "outputs": [],
   "source": [
    "dummies=pd.get_dummies(vehicle)"
   ]
  },
  {
   "cell_type": "markdown",
   "id": "bbb801e1",
   "metadata": {},
   "source": [
    "# SPLITTING TRAIN AND TEST"
   ]
  },
  {
   "cell_type": "code",
   "execution_count": 56,
   "id": "f27898bd",
   "metadata": {},
   "outputs": [],
   "source": [
    "x=dummies.drop(\"Kilometer_per_liter\",axis=1)\n",
    "y=dummies.Kilometer_per_liter\n",
    "train_x,test_x,train_y,test_y = train_test_split(x,y,test_size=0.2,random_state=12)"
   ]
  },
  {
   "cell_type": "code",
   "execution_count": 52,
   "id": "b8926161",
   "metadata": {},
   "outputs": [],
   "source": [
    "scaler = MinMaxScaler()\n",
    "train_x = scaler.fit_transform(train_x)\n",
    "test_x=scaler.fit_transform(test_x)"
   ]
  },
  {
   "cell_type": "markdown",
   "id": "983722f0",
   "metadata": {},
   "source": [
    "\n",
    "# MODEL"
   ]
  },
  {
   "cell_type": "code",
   "execution_count": 57,
   "id": "17e2a3a8",
   "metadata": {},
   "outputs": [
    {
     "data": {
      "text/plain": [
       "LinearRegression()"
      ]
     },
     "execution_count": 57,
     "metadata": {},
     "output_type": "execute_result"
    }
   ],
   "source": [
    "from sklearn.linear_model import LinearRegression\n",
    "model=LinearRegression()\n",
    "model.fit(train_x,train_y)"
   ]
  },
  {
   "cell_type": "code",
   "execution_count": 58,
   "id": "36343e50",
   "metadata": {},
   "outputs": [],
   "source": [
    "pred_y=model.predict(test_x)"
   ]
  },
  {
   "cell_type": "markdown",
   "id": "94931888",
   "metadata": {},
   "source": [
    "# SCORE"
   ]
  },
  {
   "cell_type": "code",
   "execution_count": 59,
   "id": "7db759b5",
   "metadata": {},
   "outputs": [
    {
     "name": "stdout",
     "output_type": "stream",
     "text": [
      "score using linear regression model: 91.22930385606149\n"
     ]
    }
   ],
   "source": [
    "score=model.score(test_x,test_y)\n",
    "print(\"score using linear regression model:\",score*100)"
   ]
  }
 ],
 "metadata": {
  "kernelspec": {
   "display_name": "Python 3 (ipykernel)",
   "language": "python",
   "name": "python3"
  },
  "language_info": {
   "codemirror_mode": {
    "name": "ipython",
    "version": 3
   },
   "file_extension": ".py",
   "mimetype": "text/x-python",
   "name": "python",
   "nbconvert_exporter": "python",
   "pygments_lexer": "ipython3",
   "version": "3.9.7"
  }
 },
 "nbformat": 4,
 "nbformat_minor": 5
}
